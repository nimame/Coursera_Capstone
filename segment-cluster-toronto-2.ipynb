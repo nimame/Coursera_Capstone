{
 "cells": [
  {
   "cell_type": "markdown",
   "metadata": {},
   "source": [
    "# Segmenting and Clustering Neighborhoods in Toronto pt. 2"
   ]
  },
  {
   "cell_type": "markdown",
   "metadata": {},
   "source": [
    "Install required packages."
   ]
  },
  {
   "cell_type": "code",
   "execution_count": 1,
   "metadata": {
    "pycharm": {
     "name": "#%%\n"
    }
   },
   "outputs": [],
   "source": [
    "%%capture\n",
    "!pip install -r requirements.txt"
   ]
  },
  {
   "cell_type": "markdown",
   "metadata": {},
   "source": [
    "Load packages"
   ]
  },
  {
   "cell_type": "code",
   "execution_count": 2,
   "metadata": {
    "pycharm": {
     "name": "#%%\n"
    }
   },
   "outputs": [],
   "source": [
    "import pandas as pd\n",
    "import geocoder\n",
    "import pickle\n",
    "import requests\n",
    "import os"
   ]
  },
  {
   "cell_type": "markdown",
   "metadata": {},
   "source": [
    "Set constants"
   ]
  },
  {
   "cell_type": "code",
   "execution_count": 3,
   "metadata": {
    "pycharm": {
     "name": "#%%\n"
    }
   },
   "outputs": [],
   "source": [
    "GEOCODE_CACHE = 'data/geodata.pickle'\n",
    "POST_CODES_FILE = 'out/postal_codes.pickle'"
   ]
  },
  {
   "cell_type": "markdown",
   "metadata": {},
   "source": [
    "Instantiate function that uses the geocode package to retrieve the geocoding response from the Google maps API and check if it contains the expected data."
   ]
  },
  {
   "cell_type": "code",
   "execution_count": 4,
   "metadata": {
    "pycharm": {
     "name": "#%%\n"
    }
   },
   "outputs": [],
   "source": [
    "def geocode(post_code):\n",
    "    g = geocoder.google(f'{post_code}, Toronto, Ontario', components='country:CA', session=session)\n",
    "    if g.geojson:\n",
    "        geojson = g.geojson\n",
    "        if 'features' in geojson and \\\n",
    "            len(geojson['features']) > 0 and \\\n",
    "            'properties' in geojson['features'][0] and \\\n",
    "            'lat' in geojson['features'][0]['properties']:\n",
    "            return geojson\n",
    "    return None"
   ]
  },
  {
   "cell_type": "markdown",
   "metadata": {},
   "source": [
    "Instantiate an array to store the geocoding results. Load existing results if they exist."
   ]
  },
  {
   "cell_type": "code",
   "execution_count": 5,
   "metadata": {
    "pycharm": {
     "name": "#%%\n"
    }
   },
   "outputs": [],
   "source": [
    "geojson_collection = []\n",
    "if os.path.isfile(GEOCODE_CACHE):\n",
    "    with open(GEOCODE_CACHE, 'rb') as handle:\n",
    "        geojson_collection = pickle.load(handle)"
   ]
  },
  {
   "cell_type": "markdown",
   "metadata": {},
   "source": [
    "Instantiate function to lookup geocoding results stored in the array."
   ]
  },
  {
   "cell_type": "code",
   "execution_count": 6,
   "metadata": {
    "pycharm": {
     "name": "#%%\n"
    }
   },
   "outputs": [],
   "source": [
    "def lookup_postcode(post_code, geojson_collection):\n",
    "    for geojson in geojson_collection:\n",
    "        if geojson['features'][0]['properties']['postal'] == post_code:\n",
    "            return geojson\n",
    "    return None"
   ]
  },
  {
   "cell_type": "markdown",
   "metadata": {},
   "source": [
    "Loop through the post codes and look up the geodata either from the array or using the geocoder package and store the result in back to the array."
   ]
  },
  {
   "cell_type": "code",
   "execution_count": 7,
   "metadata": {
    "pycharm": {
     "name": "#%%\n"
    }
   },
   "outputs": [],
   "source": [
    "postal_codes = pd.read_pickle(POST_CODES_FILE)"
   ]
  },
  {
   "cell_type": "code",
   "execution_count": 8,
   "metadata": {
    "pycharm": {
     "name": "#%%\n"
    }
   },
   "outputs": [
    {
     "data": {
      "text/html": [
       "<div>\n",
       "<style scoped>\n",
       "    .dataframe tbody tr th:only-of-type {\n",
       "        vertical-align: middle;\n",
       "    }\n",
       "\n",
       "    .dataframe tbody tr th {\n",
       "        vertical-align: top;\n",
       "    }\n",
       "\n",
       "    .dataframe thead th {\n",
       "        text-align: right;\n",
       "    }\n",
       "</style>\n",
       "<table border=\"1\" class=\"dataframe\">\n",
       "  <thead>\n",
       "    <tr style=\"text-align: right;\">\n",
       "      <th></th>\n",
       "      <th>Borough</th>\n",
       "      <th>Postcode</th>\n",
       "      <th>Neighbourhood</th>\n",
       "      <th>latitude</th>\n",
       "      <th>longitude</th>\n",
       "    </tr>\n",
       "  </thead>\n",
       "  <tbody>\n",
       "    <tr>\n",
       "      <td>0</td>\n",
       "      <td>Central Toronto</td>\n",
       "      <td>M4N</td>\n",
       "      <td>Lawrence Park</td>\n",
       "      <td>43.728020</td>\n",
       "      <td>-79.388790</td>\n",
       "    </tr>\n",
       "    <tr>\n",
       "      <td>1</td>\n",
       "      <td>Central Toronto</td>\n",
       "      <td>M4P</td>\n",
       "      <td>Davisville North</td>\n",
       "      <td>43.712751</td>\n",
       "      <td>-79.390197</td>\n",
       "    </tr>\n",
       "    <tr>\n",
       "      <td>2</td>\n",
       "      <td>Central Toronto</td>\n",
       "      <td>M4R</td>\n",
       "      <td>North Toronto West</td>\n",
       "      <td>43.715383</td>\n",
       "      <td>-79.405678</td>\n",
       "    </tr>\n",
       "    <tr>\n",
       "      <td>3</td>\n",
       "      <td>Central Toronto</td>\n",
       "      <td>M4S</td>\n",
       "      <td>Davisville</td>\n",
       "      <td>43.704324</td>\n",
       "      <td>-79.388790</td>\n",
       "    </tr>\n",
       "    <tr>\n",
       "      <td>4</td>\n",
       "      <td>Central Toronto</td>\n",
       "      <td>M4T</td>\n",
       "      <td>Moore Park, Summerhill East</td>\n",
       "      <td>43.689574</td>\n",
       "      <td>-79.383160</td>\n",
       "    </tr>\n",
       "    <tr>\n",
       "      <td>...</td>\n",
       "      <td>...</td>\n",
       "      <td>...</td>\n",
       "      <td>...</td>\n",
       "      <td>...</td>\n",
       "      <td>...</td>\n",
       "    </tr>\n",
       "    <tr>\n",
       "      <td>98</td>\n",
       "      <td>York</td>\n",
       "      <td>M6C</td>\n",
       "      <td>Humewood-Cedarvale</td>\n",
       "      <td>43.693781</td>\n",
       "      <td>-79.428191</td>\n",
       "    </tr>\n",
       "    <tr>\n",
       "      <td>99</td>\n",
       "      <td>York</td>\n",
       "      <td>M6E</td>\n",
       "      <td>Caledonia-Fairbanks</td>\n",
       "      <td>43.689026</td>\n",
       "      <td>-79.453512</td>\n",
       "    </tr>\n",
       "    <tr>\n",
       "      <td>100</td>\n",
       "      <td>York</td>\n",
       "      <td>M6M</td>\n",
       "      <td>Del Ray, Keelesdale, Mount Dennis, Silverthorn</td>\n",
       "      <td>43.691116</td>\n",
       "      <td>-79.476013</td>\n",
       "    </tr>\n",
       "    <tr>\n",
       "      <td>101</td>\n",
       "      <td>York</td>\n",
       "      <td>M6N</td>\n",
       "      <td>The Junction North, Runnymede</td>\n",
       "      <td>43.673185</td>\n",
       "      <td>-79.487262</td>\n",
       "    </tr>\n",
       "    <tr>\n",
       "      <td>102</td>\n",
       "      <td>York</td>\n",
       "      <td>M9N</td>\n",
       "      <td>Weston</td>\n",
       "      <td>43.706876</td>\n",
       "      <td>-79.518188</td>\n",
       "    </tr>\n",
       "  </tbody>\n",
       "</table>\n",
       "<p>103 rows × 5 columns</p>\n",
       "</div>"
      ],
      "text/plain": [
       "             Borough Postcode                                   Neighbourhood  \\\n",
       "0    Central Toronto      M4N                                   Lawrence Park   \n",
       "1    Central Toronto      M4P                                Davisville North   \n",
       "2    Central Toronto      M4R                              North Toronto West   \n",
       "3    Central Toronto      M4S                                      Davisville   \n",
       "4    Central Toronto      M4T                     Moore Park, Summerhill East   \n",
       "..               ...      ...                                             ...   \n",
       "98              York      M6C                              Humewood-Cedarvale   \n",
       "99              York      M6E                             Caledonia-Fairbanks   \n",
       "100             York      M6M  Del Ray, Keelesdale, Mount Dennis, Silverthorn   \n",
       "101             York      M6N                   The Junction North, Runnymede   \n",
       "102             York      M9N                                          Weston   \n",
       "\n",
       "      latitude  longitude  \n",
       "0    43.728020 -79.388790  \n",
       "1    43.712751 -79.390197  \n",
       "2    43.715383 -79.405678  \n",
       "3    43.704324 -79.388790  \n",
       "4    43.689574 -79.383160  \n",
       "..         ...        ...  \n",
       "98   43.693781 -79.428191  \n",
       "99   43.689026 -79.453512  \n",
       "100  43.691116 -79.476013  \n",
       "101  43.673185 -79.487262  \n",
       "102  43.706876 -79.518188  \n",
       "\n",
       "[103 rows x 5 columns]"
      ]
     },
     "execution_count": 8,
     "metadata": {},
     "output_type": "execute_result"
    }
   ],
   "source": [
    "with requests.Session() as session:\n",
    "    for i, row in postal_codes.iterrows():\n",
    "        geojson = lookup_postcode(row.Postcode, geojson_collection)\n",
    "        if not geojson:\n",
    "            geojson = geocode(row.Postcode)\n",
    "            if geojson:\n",
    "                geojson_collection.append(geojson)\n",
    "        if geojson:\n",
    "            latitude = geojson['features'][0]['properties']['lat']\n",
    "            longitude = geojson['features'][0]['properties']['lng']\n",
    "            postal_codes.loc[postal_codes.Postcode == row.Postcode, 'latitude'] = latitude\n",
    "            postal_codes.loc[postal_codes.Postcode == row.Postcode, 'longitude'] = longitude\n",
    "            \n",
    "postal_codes.to_pickle(POST_CODES_FILE)\n",
    "with open(GEOCODE_CACHE, 'wb') as handle:\n",
    "    pickle.dump(geojson_collection, handle, protocol=pickle.HIGHEST_PROTOCOL)\n",
    "postal_codes"
   ]
  }
 ],
 "metadata": {
  "kernelspec": {
   "display_name": "Python 3",
   "language": "python",
   "name": "python3"
  },
  "language_info": {
   "codemirror_mode": {
    "name": "ipython",
    "version": 3
   },
   "file_extension": ".py",
   "mimetype": "text/x-python",
   "name": "python",
   "nbconvert_exporter": "python",
   "pygments_lexer": "ipython3",
   "version": "3.7.3"
  },
  "pycharm": {
   "stem_cell": {
    "cell_type": "raw",
    "metadata": {
     "collapsed": false
    },
    "source": []
   }
  }
 },
 "nbformat": 4,
 "nbformat_minor": 2
}
